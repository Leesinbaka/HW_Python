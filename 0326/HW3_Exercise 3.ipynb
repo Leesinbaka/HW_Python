{
 "cells": [
  {
   "cell_type": "markdown",
   "metadata": {},
   "source": [
    "# Exercise 1"
   ]
  },
  {
   "cell_type": "code",
   "execution_count": 24,
   "metadata": {},
   "outputs": [
    {
     "name": "stdout",
     "output_type": "stream",
     "text": [
      "haha2 3 4\n"
     ]
    },
    {
     "data": {
      "text/plain": [
       "[102, 103, 104]"
      ]
     },
     "execution_count": 24,
     "metadata": {},
     "output_type": "execute_result"
    }
   ],
   "source": [
    "my_list = list(input(\"haha\").split(\" \"))\n",
    "list(map(lambda i: int(i) +100, my_list))"
   ]
  },
  {
   "cell_type": "markdown",
   "metadata": {},
   "source": [
    "# Exercise 2"
   ]
  },
  {
   "cell_type": "code",
   "execution_count": 19,
   "metadata": {},
   "outputs": [
    {
     "name": "stdout",
     "output_type": "stream",
     "text": [
      "3\n",
      "2\n",
      "add_ints:  5\n"
     ]
    },
    {
     "data": {
      "text/plain": [
       "6"
      ]
     },
     "execution_count": 19,
     "metadata": {},
     "output_type": "execute_result"
    }
   ],
   "source": [
    "def Decorator(func):\n",
    "    def mulit(*num):\n",
    "        func(*num)\n",
    "        j = num[0]*num[1]\n",
    "        return j\n",
    "    return mulit\n",
    "@Decorator\n",
    "def add_ints(a,b):\n",
    "    print('add_ints: ',a+b)\n",
    "    return a+b\n",
    "a,b = int(input()),int(input())\n",
    "add_ints(a,b)"
   ]
  },
  {
   "cell_type": "markdown",
   "metadata": {},
   "source": [
    "# Exercise 3"
   ]
  },
  {
   "cell_type": "code",
   "execution_count": 3,
   "metadata": {},
   "outputs": [
    {
     "name": "stdout",
     "output_type": "stream",
     "text": [
      "輸入的數值g\n",
      "出錯，請重新輸入\n",
      "輸入的數值f\n",
      "出錯，請重新輸入\n",
      "輸入的數值d\n",
      "出錯，請重新輸入\n",
      "輸入的數值3\n"
     ]
    }
   ],
   "source": [
    "while True:\n",
    "    try:\n",
    "        x = int(input(\"輸入的數值\"))\n",
    "        break\n",
    "    except:\n",
    "        print('出錯，請重新輸入')"
   ]
  },
  {
   "cell_type": "markdown",
   "metadata": {},
   "source": [
    "# Exercise 4"
   ]
  },
  {
   "cell_type": "code",
   "execution_count": 6,
   "metadata": {},
   "outputs": [
    {
     "name": "stdout",
     "output_type": "stream",
     "text": [
      "please enter +-*/+\n",
      "a=3\n",
      "b=4\n",
      "7\n"
     ]
    }
   ],
   "source": [
    "from sources import run_with_posit as r\n",
    "x = input(\"please enter +-*/\")\n",
    "if x == '+':\n",
    "    haha=r.sum_args\n",
    "elif x == '-':\n",
    "    haha=r.sub\n",
    "elif x == '*':\n",
    "    haha = r.multiple\n",
    "elif x == '/':\n",
    "    haha = r.divide\n",
    "a = int(input('a='))\n",
    "b = int(input('b='))\n",
    "c = haha(a,b)\n",
    "print(c)"
   ]
  },
  {
   "cell_type": "code",
   "execution_count": null,
   "metadata": {},
   "outputs": [],
   "source": []
  }
 ],
 "metadata": {
  "kernelspec": {
   "display_name": "Python 3",
   "language": "python",
   "name": "python3"
  },
  "language_info": {
   "codemirror_mode": {
    "name": "ipython",
    "version": 3
   },
   "file_extension": ".py",
   "mimetype": "text/x-python",
   "name": "python",
   "nbconvert_exporter": "python",
   "pygments_lexer": "ipython3",
   "version": "3.6.4"
  }
 },
 "nbformat": 4,
 "nbformat_minor": 2
}
