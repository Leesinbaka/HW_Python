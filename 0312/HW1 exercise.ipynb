{
 "cells": [
  {
   "cell_type": "markdown",
   "metadata": {},
   "source": [
    "# exercise 1"
   ]
  },
  {
   "cell_type": "code",
   "execution_count": 3,
   "metadata": {},
   "outputs": [
    {
     "name": "stdout",
     "output_type": "stream",
     "text": [
      "HelloWorld!! i wanna pass all my examQAQ\n"
     ]
    }
   ],
   "source": [
    "print (\"HelloWorld!! i wanna pass all my examQAQ\")"
   ]
  },
  {
   "cell_type": "markdown",
   "metadata": {},
   "source": [
    "# exercise 2"
   ]
  },
  {
   "cell_type": "code",
   "execution_count": null,
   "metadata": {},
   "outputs": [],
   "source": [
    "a = \"aaa\"\n",
    "b = \"bb\"\n",
    "print(b+a*3)"
   ]
  },
  {
   "cell_type": "markdown",
   "metadata": {},
   "source": [
    "# exercise 3"
   ]
  },
  {
   "cell_type": "code",
   "execution_count": null,
   "metadata": {},
   "outputs": [],
   "source": [
    "import requests\n",
    "url = \"http://www.novelscape.net/wxxs/j/jingyong/ffwz/001.htm\"\n",
    "r = requests.get(url)\n",
    "r.encoding = \"big5\"\n",
    "book = r.text\n",
    "print (book[:])\n",
    "print (book[2000:])\n",
    "print (book[:2000])\n",
    "print (book[20:20])\n",
    "print (book[0:200:2])\n",
    "print (book[:200:2])\n",
    "print (book[0::2])\n",
    "print (book[::2])\n",
    "#(a)[:] \n",
    "#(b)[start:]\n",
    "#(c)[:end]\n",
    "#(d)[start:end]\n",
    "#(e)[start:end:step]\n",
    "#(f)[:end:step]\n",
    "#(g)[start::step]\n",
    "#(h)[::step] "
   ]
  }
 ],
 "metadata": {
  "kernelspec": {
   "display_name": "Python 3",
   "language": "python",
   "name": "python3"
  },
  "language_info": {
   "codemirror_mode": {
    "name": "ipython",
    "version": 3
   },
   "file_extension": ".py",
   "mimetype": "text/x-python",
   "name": "python",
   "nbconvert_exporter": "python",
   "pygments_lexer": "ipython3",
   "version": "3.6.4"
  }
 },
 "nbformat": 4,
 "nbformat_minor": 2
}
